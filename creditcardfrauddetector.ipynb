{
  "nbformat": 4,
  "nbformat_minor": 0,
  "metadata": {
    "colab": {
      "provenance": []
    },
    "kernelspec": {
      "name": "python3",
      "display_name": "Python 3"
    },
    "language_info": {
      "name": "python"
    }
  },
  "cells": [
    {
      "cell_type": "code",
      "execution_count": null,
      "metadata": {
        "colab": {
          "base_uri": "https://localhost:8080/"
        },
        "id": "UooG-wQv7Lj5",
        "outputId": "58bf3dd4-e63b-4672-f49e-c71f1ba50f8a"
      },
      "outputs": [
        {
          "output_type": "stream",
          "name": "stdout",
          "text": [
            "Collecting opendatasets\n",
            "  Downloading opendatasets-0.1.22-py3-none-any.whl.metadata (9.2 kB)\n",
            "Requirement already satisfied: tqdm in /usr/local/lib/python3.11/dist-packages (from opendatasets) (4.67.1)\n",
            "Requirement already satisfied: kaggle in /usr/local/lib/python3.11/dist-packages (from opendatasets) (1.7.4.5)\n",
            "Requirement already satisfied: click in /usr/local/lib/python3.11/dist-packages (from opendatasets) (8.2.1)\n",
            "Requirement already satisfied: bleach in /usr/local/lib/python3.11/dist-packages (from kaggle->opendatasets) (6.2.0)\n",
            "Requirement already satisfied: certifi>=14.05.14 in /usr/local/lib/python3.11/dist-packages (from kaggle->opendatasets) (2025.6.15)\n",
            "Requirement already satisfied: charset-normalizer in /usr/local/lib/python3.11/dist-packages (from kaggle->opendatasets) (3.4.2)\n",
            "Requirement already satisfied: idna in /usr/local/lib/python3.11/dist-packages (from kaggle->opendatasets) (3.10)\n",
            "Requirement already satisfied: protobuf in /usr/local/lib/python3.11/dist-packages (from kaggle->opendatasets) (5.29.5)\n",
            "Requirement already satisfied: python-dateutil>=2.5.3 in /usr/local/lib/python3.11/dist-packages (from kaggle->opendatasets) (2.9.0.post0)\n",
            "Requirement already satisfied: python-slugify in /usr/local/lib/python3.11/dist-packages (from kaggle->opendatasets) (8.0.4)\n",
            "Requirement already satisfied: requests in /usr/local/lib/python3.11/dist-packages (from kaggle->opendatasets) (2.32.3)\n",
            "Requirement already satisfied: setuptools>=21.0.0 in /usr/local/lib/python3.11/dist-packages (from kaggle->opendatasets) (75.2.0)\n",
            "Requirement already satisfied: six>=1.10 in /usr/local/lib/python3.11/dist-packages (from kaggle->opendatasets) (1.17.0)\n",
            "Requirement already satisfied: text-unidecode in /usr/local/lib/python3.11/dist-packages (from kaggle->opendatasets) (1.3)\n",
            "Requirement already satisfied: urllib3>=1.15.1 in /usr/local/lib/python3.11/dist-packages (from kaggle->opendatasets) (2.4.0)\n",
            "Requirement already satisfied: webencodings in /usr/local/lib/python3.11/dist-packages (from kaggle->opendatasets) (0.5.1)\n",
            "Downloading opendatasets-0.1.22-py3-none-any.whl (15 kB)\n",
            "Installing collected packages: opendatasets\n",
            "Successfully installed opendatasets-0.1.22\n"
          ]
        }
      ],
      "source": [
        "!pip install opendatasets"
      ]
    },
    {
      "cell_type": "code",
      "source": [
        "import opendatasets as od\n",
        "od.download('https://www.kaggle.com/datasets/mlg-ulb/creditcardfraud')"
      ],
      "metadata": {
        "colab": {
          "base_uri": "https://localhost:8080/"
        },
        "id": "4BAArchk7SMe",
        "outputId": "8012013a-48e3-4920-b91c-f50d9d60496b"
      },
      "execution_count": null,
      "outputs": [
        {
          "output_type": "stream",
          "name": "stdout",
          "text": [
            "Please provide your Kaggle credentials to download this dataset. Learn more: http://bit.ly/kaggle-creds\n",
            "Your Kaggle username:"
          ]
        }
      ]
    },
    {
      "cell_type": "markdown",
      "source": [
        "#  Import Libraries"
      ],
      "metadata": {
        "id": "sQV3ORUnEePI"
      }
    },
    {
      "cell_type": "code",
      "source": [
        "from sklearn.cluster import DBSCAN\n",
        "from sklearn.decomposition import PCA\n",
        "from sklearn.metrics import silhouette_score\n",
        "import numpy as n\n",
        "import pandas as pd\n",
        "import matplotlib.pyplot as plt\n",
        "from sklearn.metrics import silhouette_score, davies_bouldin_score, classification_report, confusion_matrix\n",
        "import seaborn as sns"
      ],
      "metadata": {
        "id": "TFWsthAD7b_q"
      },
      "execution_count": null,
      "outputs": []
    },
    {
      "cell_type": "markdown",
      "source": [
        "#  Load Dataset"
      ],
      "metadata": {
        "id": "oplkEyiCEoSY"
      }
    },
    {
      "cell_type": "code",
      "source": [
        "data=pd.read_csv('/content/creditcardfraud/creditcard.csv')\n",
        "data.head()"
      ],
      "metadata": {
        "id": "5LPfs4qJ7xNe"
      },
      "execution_count": null,
      "outputs": []
    },
    {
      "cell_type": "markdown",
      "source": [
        "# Shape, Count, and Sum Dataset"
      ],
      "metadata": {
        "id": "-LOn_evyEyN2"
      }
    },
    {
      "cell_type": "code",
      "source": [
        "data.shape"
      ],
      "metadata": {
        "id": "JTRq4xVx73bS"
      },
      "execution_count": null,
      "outputs": []
    },
    {
      "cell_type": "code",
      "source": [
        "data.value_counts()"
      ],
      "metadata": {
        "id": "JIIUtA_q8Gsz"
      },
      "execution_count": null,
      "outputs": []
    },
    {
      "cell_type": "code",
      "source": [
        "data.sum()"
      ],
      "metadata": {
        "id": "7Hrpd8iZ8Eom"
      },
      "execution_count": null,
      "outputs": []
    },
    {
      "cell_type": "markdown",
      "source": [
        "# Managing Dataset"
      ],
      "metadata": {
        "id": "5y_Pqb6LFCgo"
      }
    },
    {
      "cell_type": "code",
      "source": [
        "Ones=data[data['Class']==1]"
      ],
      "metadata": {
        "id": "TGEGZr1V8X6j"
      },
      "execution_count": null,
      "outputs": []
    },
    {
      "cell_type": "code",
      "source": [
        "Zeroes=data[:500]"
      ],
      "metadata": {
        "id": "1sCi49-d8mFf"
      },
      "execution_count": null,
      "outputs": []
    },
    {
      "cell_type": "code",
      "source": [
        "Ones.shape"
      ],
      "metadata": {
        "id": "Lukwhqdv8rzO"
      },
      "execution_count": null,
      "outputs": []
    },
    {
      "cell_type": "code",
      "source": [
        "Zeroes.shape"
      ],
      "metadata": {
        "id": "AhTEGdNB8x-1"
      },
      "execution_count": null,
      "outputs": []
    },
    {
      "cell_type": "code",
      "source": [
        "CuratedData=pd.concat([Ones,Zeroes])"
      ],
      "metadata": {
        "id": "mbxpVadD82br"
      },
      "execution_count": null,
      "outputs": []
    },
    {
      "cell_type": "code",
      "source": [
        "print(CuratedData['Class'].value_counts())\n",
        "CuratedData.head()"
      ],
      "metadata": {
        "id": "e56pzagU8_dL"
      },
      "execution_count": null,
      "outputs": []
    },
    {
      "cell_type": "code",
      "source": [
        "CuratedData=CuratedData.drop(['Amount','Class','Time'],axis=1)"
      ],
      "metadata": {
        "id": "m2sFo3W99DnK"
      },
      "execution_count": null,
      "outputs": []
    },
    {
      "cell_type": "code",
      "source": [
        "reduced_data=np.array(CuratedData)"
      ],
      "metadata": {
        "id": "8RVK6-SC9QLf"
      },
      "execution_count": null,
      "outputs": []
    },
    {
      "cell_type": "code",
      "source": [
        "reduced_data.shape"
      ],
      "metadata": {
        "id": "N7jWxkvi906V"
      },
      "execution_count": null,
      "outputs": []
    },
    {
      "cell_type": "markdown",
      "source": [
        "#  Keep the true labels for later evaluation"
      ],
      "metadata": {
        "id": "66ijXSGAFjSo"
      }
    },
    {
      "cell_type": "code",
      "source": [
        "true_labels = data[\"Class\"]\n"
      ],
      "metadata": {
        "id": "InTwJW4FAwGx"
      },
      "execution_count": null,
      "outputs": []
    },
    {
      "cell_type": "code",
      "source": [
        "pca = PCA(n_components=10)  # Reducing to 10 dimensions for DBSCAN\n",
        "reduced_data = pca.fit_transform(reduced_data)"
      ],
      "metadata": {
        "id": "yIh1bQZ0GAI8"
      },
      "execution_count": null,
      "outputs": []
    },
    {
      "cell_type": "markdown",
      "source": [
        "#  DBSCAN Clustering"
      ],
      "metadata": {
        "id": "E6VrJ0nDFlB2"
      }
    },
    {
      "cell_type": "code",
      "source": [
        "dbscan = DBSCAN(eps=2.0, min_samples=5)  # eps may need tuning\n",
        "cluster_labels = dbscan.fit_predict(reduced_data)\n"
      ],
      "metadata": {
        "id": "dKHbESbW97vd"
      },
      "execution_count": null,
      "outputs": []
    },
    {
      "cell_type": "markdown",
      "source": [
        "# Add cluster labels to dataframe"
      ],
      "metadata": {
        "id": "rXxEQBSYGsex"
      }
    },
    {
      "cell_type": "code",
      "source": [
        "CuratedData[\"Cluster\"] = cluster_labels"
      ],
      "metadata": {
        "id": "blBnEzwY-Tlw"
      },
      "execution_count": null,
      "outputs": []
    },
    {
      "cell_type": "markdown",
      "source": [
        "#  Evaluation (Unsupervised Metrics)"
      ],
      "metadata": {
        "id": "emmXPxD-G1cl"
      }
    },
    {
      "cell_type": "code",
      "source": [
        "core_samples_mask = cluster_labels != -1\n",
        "if len(set(cluster_labels)) > 1 and np.sum(core_samples_mask) > 1:\n",
        "    sil_score = silhouette_score(reduced_data[core_samples_mask], cluster_labels[core_samples_mask])\n",
        "    db_index = davies_bouldin_score(reduced_data[core_samples_mask], cluster_labels[core_samples_mask])\n",
        "    print(f\"Silhouette Score: {sil_score:.4f}\")\n",
        "    print(f\"Davies–Bouldin Index: {db_index:.4f}\")\n",
        "else:\n",
        "    print(\"Not enough core points for silhouette or DB score.\")"
      ],
      "metadata": {
        "id": "ZNNie-6E-aNs"
      },
      "execution_count": null,
      "outputs": []
    },
    {
      "cell_type": "markdown",
      "source": [
        "\n",
        "#  Evaluate noise as fraud (label = -1)"
      ],
      "metadata": {
        "id": "r80grmVcHEUU"
      }
    },
    {
      "cell_type": "code",
      "source": [
        "detected_frauds = (cluster_labels == -1).astype(int)\n",
        "\n",
        "# Get the true labels for the curated data\n",
        "true_labels_curated = data.loc[CuratedData.index, 'Class']\n",
        "\n",
        "print(\"\\n🔍 Classification Report (Treating DBSCAN noise as predicted fraud):\")\n",
        "print(classification_report(true_labels_curated, detected_frauds, target_names=[\"Legit\", \"Fraud\"]))\n",
        "\n",
        "print(\"\\n📊 Confusion Matrix:\")\n",
        "cm = confusion_matrix(true_labels_curated, detected_frauds)\n",
        "sns.heatmap(cm, annot=True, fmt='d', cmap='coolwarm', xticklabels=[\"Pred Legit\", \"Pred Fraud\"], yticklabels=[\"True Legit\", \"True Fraud\"])\n",
        "plt.show()"
      ],
      "metadata": {
        "id": "TlsGz1NU_4o1"
      },
      "execution_count": null,
      "outputs": []
    },
    {
      "cell_type": "markdown",
      "source": [
        "\n",
        "# Optional: 2D Visualization"
      ],
      "metadata": {
        "id": "nUGFh66IHUbY"
      }
    },
    {
      "cell_type": "code",
      "source": [
        "pca_2d = PCA(n_components=2)\n",
        "vis_data = pca_2d.fit_transform(reduced_data)\n",
        "\n",
        "plt.figure(figsize=(10, 6))\n",
        "sns.scatterplot(x=vis_data[:, 0], y=vis_data[:, 1], hue=cluster_labels, palette='tab10', legend='full', s=10)\n",
        "plt.title(\"DBSCAN Clustering on Credit Card Data\")\n",
        "plt.xlabel(\"PCA Component 1\")\n",
        "plt.ylabel(\"PCA Component 2\")\n",
        "plt.legend(title=\"Cluster\")\n",
        "plt.show()\n"
      ],
      "metadata": {
        "id": "Z_8WtJ89AbB5"
      },
      "execution_count": null,
      "outputs": []
    },
    {
      "cell_type": "code",
      "source": [
        "Score=silhouette_score(reduced_data,true_labels_curated)"
      ],
      "metadata": {
        "id": "4_HqxtHNBzzd"
      },
      "execution_count": null,
      "outputs": []
    },
    {
      "cell_type": "code",
      "source": [
        "data['Class'].value_counts()"
      ],
      "metadata": {
        "id": "OcE5qcMTCWTr"
      },
      "execution_count": null,
      "outputs": []
    },
    {
      "cell_type": "code",
      "source": [
        "plt.figure(figsize=(8,4))\n",
        "sns.countplot(x=CuratedData['Cluster'], palette='Set2')\n",
        "plt.title(\"Cluster Counts (DBSCAN Output)\")\n",
        "plt.xlabel(\"Cluster Label\")\n",
        "plt.ylabel(\"Number of Transactions\")\n",
        "plt.show()\n"
      ],
      "metadata": {
        "id": "-sD0RloUDdeh"
      },
      "execution_count": null,
      "outputs": []
    },
    {
      "cell_type": "code",
      "source": [
        "labels = ['Legit (Cluster)', 'Fraud (Noise)']\n",
        "sizes = [np.sum(detected_frauds == 0), np.sum(detected_frauds == 1)]\n",
        "colors = ['skyblue', 'salmon']\n",
        "\n",
        "plt.figure(figsize=(6,6))\n",
        "plt.pie(sizes, labels=labels, autopct='%1.1f%%', startangle=140, colors=colors)\n",
        "plt.title(\"DBSCAN Predicted Fraud vs Legit Transactions\")\n",
        "plt.axis('equal')\n",
        "plt.show()"
      ],
      "metadata": {
        "id": "iTIqxPxcQ5C8"
      },
      "execution_count": null,
      "outputs": []
    },
    {
      "cell_type": "code",
      "source": [
        "pca_df = pd.DataFrame(reduced_data, columns=[f'PC{i+1}' for i in range(reduced_data.shape[1])])\n",
        "\n",
        "plt.figure(figsize=(10, 6))\n",
        "sns.heatmap(pca_df.corr(), cmap='coolwarm', annot=True, fmt=\".2f\")\n",
        "plt.title(\"Correlation Heatmap of PCA Components\")\n",
        "plt.show()"
      ],
      "metadata": {
        "id": "Ovw6ItshRArF"
      },
      "execution_count": null,
      "outputs": []
    },
    {
      "cell_type": "code",
      "source": [],
      "metadata": {
        "id": "_8tb7Z0URcf6"
      },
      "execution_count": null,
      "outputs": []
    }
  ]
}